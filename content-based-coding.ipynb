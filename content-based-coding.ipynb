{
 "cells": [
  {
   "cell_type": "code",
   "execution_count": 27,
   "id": "2512bb90",
   "metadata": {},
   "outputs": [],
   "source": [
    "import pandas as pd\n",
    "from sklearn.feature_extraction.text import TfidfVectorizer\n",
    "from sklearn.metrics.pairwise import cosine_similarity"
   ]
  },
  {
   "cell_type": "code",
   "execution_count": null,
   "id": "81cdfe00",
   "metadata": {},
   "outputs": [],
   "source": [
    "file_path=r\"C:\\Users\\User\\Desktop\\dataset\\mudah_all_dataV2.csv\"\n",
    "df=pd.read_csv(file_path)\n",
    "# Concatenate the selected columns into a single text column\n",
    "selected_columns = ['attributes.category_name', 'attributes.subject', 'attributes.body', 'attributes.region_name', 'attributes.property_type_name']\n",
    "df['text'] = df[selected_columns].fillna('').apply(lambda x: ' '.join(x), axis=1)\n",
    "# Get user input for keywords\n",
    "keywords = input(\"Enter keywords to search for house: \").split()\n",
    "# Initialize TfidfVectorizer\n",
    "tfidf_vectorizer = TfidfVectorizer()\n",
    "# Fit and transform the text data\n",
    "tfidf_matrix = tfidf_vectorizer.fit_transform(df['text'])\n",
    "\n",
    "# Transform user input into a document\n",
    "user_document = ' '.join(keywords)\n",
    "user_vector = tfidf_vectorizer.transform([user_document])\n",
    "\n",
    "# Calculate cosine similarity between user input and properties data\n",
    "cos_sim = cosine_similarity(user_vector, tfidf_matrix)\n",
    "\n",
    "# Get indices of prperties sorted by relevance\n",
    "sorted_indices = cos_sim.argsort()[0][::-1]\n",
    "# Print top 5 most relevant houses\n",
    "print(\"Top 5 most relevant houses:\")\n",
    "for i in range(5):\n",
    "    house_index = sorted_indices[i]\n",
    "    house_category = df.iloc[house_index]['attributes.category_name']\n",
    "    house_subject = df.iloc[house_index]['attributes.subject']\n",
    "    house_body = df.iloc[house_index]['attributes.body']\n",
    "    house_region = df.iloc[house_index]['attributes.region_name']\n",
    "    house_property_type = df.iloc[house_index]['attributes.property_type_name']\n",
    "    relevance_score = cos_sim[0][house_index]\n",
    "    print(f\"{i+1}. Category: {house_category}, Subject: {house_subject}, Body: {house_body}, Region: {house_region}, Property Type: {house_property_type} (Relevance Score: {relevance_score:.2f})\")\n"
   ]
  },
  {
   "cell_type": "code",
   "execution_count": 28,
   "id": "d9cf1a7b",
   "metadata": {},
   "outputs": [],
   "source": [
    "file_path=r\"C:\\Users\\User\\Desktop\\dataset\\mudah_all_dataV2.csv\"\n",
    "df=pd.read_csv(file_path)"
   ]
  },
  {
   "cell_type": "code",
   "execution_count": 29,
   "id": "44b907cd",
   "metadata": {},
   "outputs": [
    {
     "data": {
      "text/plain": [
       "Index(['attributes.category_name', 'attributes.subject',\n",
       "       'attributes.bathroom_name', 'attributes.rooms_name', 'attributes.body',\n",
       "       'attributes.price', 'attributes.region_name',\n",
       "       'attributes.property_type_name', 'attributes.size',\n",
       "       'attributes.price_label', 'links.image_baseurl'],\n",
       "      dtype='object')"
      ]
     },
     "execution_count": 29,
     "metadata": {},
     "output_type": "execute_result"
    }
   ],
   "source": [
    "df.columns"
   ]
  },
  {
   "cell_type": "code",
   "execution_count": 30,
   "id": "3c5ee5a1",
   "metadata": {},
   "outputs": [],
   "source": [
    "# Concatenate the selected columns into a single text column\n",
    "selected_columns = ['attributes.category_name', 'attributes.subject', 'attributes.body', 'attributes.region_name', 'attributes.property_type_name']\n",
    "df['text'] = df[selected_columns].fillna('').apply(lambda x: ' '.join(x), axis=1)\n"
   ]
  },
  {
   "cell_type": "code",
   "execution_count": 31,
   "id": "3e872073",
   "metadata": {},
   "outputs": [
    {
     "name": "stdout",
     "output_type": "stream",
     "text": [
      "Enter keywords to search for house: apartment\n"
     ]
    }
   ],
   "source": [
    "# Get user input for keywords\n",
    "keywords = input(\"Enter keywords to search for house: \").split()"
   ]
  },
  {
   "cell_type": "code",
   "execution_count": 32,
   "id": "2fb00a73",
   "metadata": {},
   "outputs": [],
   "source": [
    "# Initialize TfidfVectorizer\n",
    "tfidf_vectorizer = TfidfVectorizer()"
   ]
  },
  {
   "cell_type": "code",
   "execution_count": 33,
   "id": "c4f3499d",
   "metadata": {},
   "outputs": [],
   "source": [
    "# Fit and transform the text data\n",
    "tfidf_matrix = tfidf_vectorizer.fit_transform(df['text'])\n",
    "\n",
    "# Transform user input into a document\n",
    "user_document = ' '.join(keywords)\n",
    "user_vector = tfidf_vectorizer.transform([user_document])\n",
    "\n",
    "# Calculate cosine similarity between user input and properties data\n",
    "cos_sim = cosine_similarity(user_vector, tfidf_matrix)\n",
    "\n",
    "# Get indices of properties sorted by relevance\n",
    "sorted_indices = cos_sim.argsort()[0][::-1]"
   ]
  },
  {
   "cell_type": "code",
   "execution_count": 34,
   "id": "d800d93d",
   "metadata": {},
   "outputs": [
    {
     "name": "stdout",
     "output_type": "stream",
     "text": [
      "Top 5 most relevant houses:\n",
      "1. Category: apartment condominium, Subject: apartment sell, Body: selling furnished renovation price nego, Region: negeri sembilan, Property Type: apartment (Relevance Score: 0.74)\n",
      "2. Category: apartment condominium, Subject: apartment sale, Body: apartment sale cempaka court 3rd floor, Region: negeri sembilan, Property Type: apartment (Relevance Score: 0.70)\n",
      "3. Category: apartment condominium, Subject: ara ria apartment, Body: negotiable, Region: negeri sembilan, Property Type: apartment (Relevance Score: 0.65)\n",
      "4. Category: apartment condominium, Subject: apartment dahlia seremban, Body: apartment dahlia q sale 3rd floor non bumi lot bedroom ,1 bathroom ,1 toilet fully tile, Region: negeri sembilan, Property Type: apartment (Relevance Score: 0.56)\n",
      "5. Category: apartment condominium, Subject: villa krystall room apartment, Body: bumi lot call, Region: johor, Property Type: apartment (Relevance Score: 0.55)\n"
     ]
    }
   ],
   "source": [
    "# Print top 5 most relevant houses\n",
    "print(\"Top 5 most relevant houses:\")\n",
    "for i in range(5):\n",
    "    house_index = sorted_indices[i]\n",
    "    house_category = df.iloc[house_index]['attributes.category_name']\n",
    "    house_subject = df.iloc[house_index]['attributes.subject']\n",
    "    house_body = df.iloc[house_index]['attributes.body']\n",
    "    house_region = df.iloc[house_index]['attributes.region_name']\n",
    "    house_property_type = df.iloc[house_index]['attributes.property_type_name']\n",
    "    relevance_score = cos_sim[0][house_index]\n",
    "    print(f\"{i+1}. Category: {house_category}, Subject: {house_subject}, Body: {house_body}, Region: {house_region}, Property Type: {house_property_type} (Relevance Score: {relevance_score:.2f})\")\n"
   ]
  },
  {
   "cell_type": "code",
   "execution_count": null,
   "id": "b60dce56",
   "metadata": {},
   "outputs": [],
   "source": []
  }
 ],
 "metadata": {
  "kernelspec": {
   "display_name": "Python 3 (ipykernel)",
   "language": "python",
   "name": "python3"
  },
  "language_info": {
   "codemirror_mode": {
    "name": "ipython",
    "version": 3
   },
   "file_extension": ".py",
   "mimetype": "text/x-python",
   "name": "python",
   "nbconvert_exporter": "python",
   "pygments_lexer": "ipython3",
   "version": "3.11.5"
  }
 },
 "nbformat": 4,
 "nbformat_minor": 5
}
